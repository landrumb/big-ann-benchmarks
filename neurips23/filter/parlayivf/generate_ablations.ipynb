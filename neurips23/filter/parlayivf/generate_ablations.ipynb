{
 "cells": [
  {
   "cell_type": "code",
   "execution_count": 7,
   "metadata": {},
   "outputs": [],
   "source": [
    "import os\n",
    "import yaml\n",
    "import copy"
   ]
  },
  {
   "cell_type": "code",
   "execution_count": 8,
   "metadata": {},
   "outputs": [
    {
     "name": "stdout",
     "output_type": "stream",
     "text": [
      "{'random-filter-s': {'parlayivf': {'docker-tag': 'neurips23-filter-parlayivf', 'module': 'neurips23.filter.parlayivf.parlayivf', 'constructor': 'ParlayIVF', 'base-args': ['@metric'], 'run-groups': {'base': {'args': '[{\"cluster_size\": 5000, \\n  \"T\": 8,\\n  \"cutoff\": 10000,\\n  \"max_iter\": 10,\\n  \"weight_classes\": [100000, 400000],\\n  \"build_params\": [{\"max_degree\": 8,\\n                    \"limit\": 200,\\n                    \"alpha\": 1.175},\\n                  {\"max_degree\": 10,\\n                   \"limit\": 200,\\n                   \"alpha\": 1.175},\\n                  {\"max_degree\": 12,\\n                   \"limit\": 200,\\n                   \"alpha\": 1.175}],\\n  \"bitvector_cutoff\": 10000,\\n  \"materialize_joins\": \"True\"\\n}]\\n', 'query-args': '[{\"target_points\": 15000,\\n  \"tiny_cutoff\": 60000,\\n  \"beam_widths\": [70, 70, 70]\\n  }]\\n'}}}}, 'yfcc-10M': {'parlayivf': {'docker-tag': 'neurips23-filter-parlayivf', 'module': 'neurips23.filter.parlayivf.parlayivf', 'constructor': 'ParlayIVF', 'base-args': ['@metric'], 'run-groups': {'base': {'args': '[{\"cluster_size\": 5000, \\n  \"T\": 8,\\n  \"cutoff\": 10000,\\n  \"max_iter\": 10,\\n  \"weight_classes\": [100000, 400000],\\n  \"build_params\": [{\"max_degree\": 8,\\n                    \"limit\": 200,\\n                    \"alpha\": 1.175},\\n                  {\"max_degree\": 10,\\n                   \"limit\": 200,\\n                   \"alpha\": 1.175},\\n                  {\"max_degree\": 12,\\n                   \"limit\": 200,\\n                   \"alpha\": 1.175}],\\n  \"bitvector_cutoff\": 10000,\\n  \"materialize_joins\": \"True\"\\n}]\\n', 'query-args': '[{\"target_points\": 5000,\\n  \"tiny_cutoff\": 30000,\\n  \"beam_widths\": [85, 50, 95],\\n  \"search_limits\": [500, 500, 500]\\n  },\\n  {\"target_points\": 7500,\\n   \"tiny_cutoff\": 35000,\\n   \"beam_widths\": [55, 55, 55]\\n   },\\n   {\"target_points\": 5000,\\n  \"tiny_cutoff\": 28000,\\n  \"beam_widths\": [90, 57, 90],\\n  \"search_limits\": [500, 500, 500]\\n  },\\n  {\"target_points\": 15000,\\n   \"tiny_cutoff\": 100000,\\n   \"beam_widths\": [60, 60, 60]\\n  },\\n  {\"target_points\": 15000,\\n   \"tiny_cutoff\": 60000,\\n   \"beam_widths\": [90, 90, 90]\\n  },\\n  {\"target_points\": 15000,\\n   \"tiny_cutoff\": 100000,\\n   \"beam_widths\": [90, 90, 90]\\n  },\\n  {\"target_points\": 15000,\\n   \"tiny_cutoff\": 60000,\\n   \"beam_widths\": [50, 50, 50]\\n  },\\n  {\"target_points\": 15000,\\n   \"tiny_cutoff\": 100000,\\n   \"beam_widths\": [50, 50, 50]\\n  },\\n  {\"target_points\": 15000,\\n   \"tiny_cutoff\": 60000,\\n   \"beam_widths\": [40, 40, 40]\\n  },\\n  {\"target_points\": 15000,\\n   \"tiny_cutoff\": 100000,\\n   \"beam_widths\": [40, 40, 40]\\n  }]\\n'}}}}, 'crawl': {'parlayivf': {'docker-tag': 'neurips23-filter-parlayivf', 'module': 'neurips23.filter.parlayivf.parlayivf', 'constructor': 'ParlayIVF', 'base-args': ['@metric'], 'run-groups': {'base': {'args': '[{\"cluster_size\": 5000, \\n  \"T\": 8,\\n  \"cutoff\": 10000,\\n  \"max_iter\": 10,\\n  \"weight_classes\": [100000, 400000],\\n  \"build_params\": [{\"max_degree\": 8,\\n                    \"limit\": 200,\\n                    \"alpha\": 1.175},\\n                  {\"max_degree\": 10,\\n                   \"limit\": 200,\\n                   \"alpha\": 1.175},\\n                  {\"max_degree\": 12,\\n                   \"limit\": 200,\\n                   \"alpha\": 1.175}],\\n  \"bitvector_cutoff\": 10000,\\n  \"materialize_joins\": \"True\"\\n}]\\n', 'query-args': '[{\"target_points\": 15000,\\n  \"tiny_cutoff\": 60000,\\n  \"beam_widths\": [70, 70, 70]\\n  },\\n  {\"target_points\": 10000,\\n  \"tiny_cutoff\": 60000,\\n  \"beam_widths\": [70, 70, 70]\\n  },\\n  {\"target_points\": 50000,\\n  \"tiny_cutoff\": 60000,\\n  \"beam_widths\": [70, 70, 70]\\n  },\\n  {\"target_points\": 500000,\\n  \"tiny_cutoff\": 60000,\\n  \"beam_widths\": [70, 70, 70]\\n  }]\\n'}}}}, 'enron': {'parlayivf': {'docker-tag': 'neurips23-filter-parlayivf', 'module': 'neurips23.filter.parlayivf.parlayivf', 'constructor': 'ParlayIVF', 'base-args': ['@metric'], 'run-groups': {'base': {'args': '[{\"cluster_size\": 5000, \\n  \"T\": 8,\\n  \"cutoff\": 10000,\\n  \"max_iter\": 10,\\n  \"weight_classes\": [100000, 400000],\\n  \"build_params\": [{\"max_degree\": 8,\\n                    \"limit\": 200,\\n                    \"alpha\": 1.175},\\n                  {\"max_degree\": 10,\\n                   \"limit\": 200,\\n                   \"alpha\": 1.175},\\n                  {\"max_degree\": 12,\\n                   \"limit\": 200,\\n                   \"alpha\": 1.175}],\\n  \"bitvector_cutoff\": 10000,\\n  \"materialize_joins\": \"True\"\\n}]\\n', 'query-args': '[{\"target_points\": 15000,\\n  \"tiny_cutoff\": 60000,\\n  \"beam_widths\": [70, 70, 70]\\n  },\\n  {\"target_points\": 100000,\\n  \"tiny_cutoff\": 60000,\\n  \"beam_widths\": [70, 70, 70]\\n  },\\n\\n  {\"tiny_cutoff\": 30000,\\n  \"target_points\": 6000,\\n  \"search_limit\": 875,\\n  \"beam_widths\": [115, 40, 60]\\n  },  \\n  {\"tiny_cutoff\": 29000,\\n  \"target_points\": 5000,\\n  \"search_limit\": 585,\\n  \"beam_widths\": [110, 65, 115]\\n  },  \\n  {\"tiny_cutoff\": 16000,\\n  \"target_points\": 5000,\\n  \"search_limit\": 790,\\n  \"beam_widths\": [85, 85, 110]\\n  },  \\n  {\"tiny_cutoff\": 29000,\\n  \"target_points\": 5000,\\n  \"search_limit\": 205,\\n  \"beam_widths\": [45, 120, 125]\\n  },  \\n  {\"tiny_cutoff\": 23000,\\n  \"target_points\": 5000,\\n  \"search_limit\": 475,\\n  \"beam_widths\": [40, 125, 120]\\n  },  \\n  {\"tiny_cutoff\": 15000,\\n  \"target_points\": 9000,\\n  \"search_limit\": 265,\\n  \"beam_widths\": [115, 55, 50]\\n  },  \\n  {\"tiny_cutoff\": 17000,\\n  \"target_points\": 14000,\\n  \"search_limit\": 30,\\n  \"beam_widths\": [90, 115, 80]\\n  }  \\n  ]\\n'}}}}, 'gist': {'parlayivf': {'docker-tag': 'neurips23-filter-parlayivf', 'module': 'neurips23.filter.parlayivf.parlayivf', 'constructor': 'ParlayIVF', 'base-args': ['@metric'], 'run-groups': {'base': {'args': '[{\"cluster_size\": 5000, \\n  \"T\": 8,\\n  \"cutoff\": 10000,\\n  \"max_iter\": 10,\\n  \"weight_classes\": [100000, 400000],\\n  \"build_params\": [{\"max_degree\": 8,\\n                    \"limit\": 200,\\n                    \"alpha\": 1.175},\\n                  {\"max_degree\": 10,\\n                   \"limit\": 200,\\n                   \"alpha\": 1.175},\\n                  {\"max_degree\": 12,\\n                   \"limit\": 200,\\n                   \"alpha\": 1.175}],\\n  \"bitvector_cutoff\": 10000,\\n  \"materialize_joins\": \"True\"\\n}]\\n', 'query-args': '[{\"target_points\": 15000,\\n  \"tiny_cutoff\": 60000,\\n  \"beam_widths\": [70, 70, 70]\\n  },\\n  {\"target_points\": 100000,\\n  \"tiny_cutoff\": 60000,\\n  \"beam_widths\": [70, 70, 70]\\n  },\\n\\n  {\"tiny_cutoff\": 59000,\\n  \"target_points\": 32000,\\n  \"search_limit\": 770,\\n  \"beam_widths\": [65, 60, 35]\\n  },  \\n  {\"tiny_cutoff\": 44000,\\n  \"target_points\": 16000,\\n  \"search_limit\": 90,\\n  \"beam_widths\": [95, 75, 75]\\n  },  \\n  {\"tiny_cutoff\": 14000,\\n  \"target_points\": 18000,\\n  \"search_limit\": 785,\\n  \"beam_widths\": [35, 130, 35]\\n  },  \\n  {\"tiny_cutoff\": 28000,\\n  \"target_points\": 20000,\\n  \"search_limit\": 410,\\n  \"beam_widths\": [130, 40, 40]\\n  },  \\n  {\"tiny_cutoff\": 21000,\\n  \"target_points\": 15000,\\n  \"search_limit\": 70,\\n  \"beam_widths\": [100, 125, 100]\\n  },  \\n  {\"tiny_cutoff\": 70000,\\n  \"target_points\": 7000,\\n  \"search_limit\": 975,\\n  \"beam_widths\": [100, 35, 35]\\n  },  \\n  {\"tiny_cutoff\": 13000,\\n  \"target_points\": 10000,\\n  \"search_limit\": 145,\\n  \"beam_widths\": [130, 35, 130]\\n  }  \\n  ]\\n'}}}}, 'msong': {'parlayivf': {'docker-tag': 'neurips23-filter-parlayivf', 'module': 'neurips23.filter.parlayivf.parlayivf', 'constructor': 'ParlayIVF', 'base-args': ['@metric'], 'run-groups': {'base': {'args': '[{\"cluster_size\": 5000, \\n  \"T\": 8,\\n  \"cutoff\": 10000,\\n  \"max_iter\": 10,\\n  \"weight_classes\": [100000, 400000],\\n  \"build_params\": [{\"max_degree\": 8,\\n                    \"limit\": 200,\\n                    \"alpha\": 1.175},\\n                  {\"max_degree\": 10,\\n                   \"limit\": 200,\\n                   \"alpha\": 1.175},\\n                  {\"max_degree\": 12,\\n                   \"limit\": 200,\\n                   \"alpha\": 1.175}],\\n  \"bitvector_cutoff\": 10000,\\n  \"materialize_joins\": \"True\"\\n}]\\n', 'query-args': '[{\"target_points\": 15000,\\n  \"tiny_cutoff\": 60000,\\n  \"beam_widths\": [70, 70, 70]\\n  },\\n  {\"target_points\": 100000,\\n  \"tiny_cutoff\": 60000,\\n  \"beam_widths\": [70, 70, 70]\\n  },\\n\\n  {\"tiny_cutoff\": 20000,\\n  \"target_points\": 5000,\\n  \"search_limit\": 75,\\n  \"beam_widths\": [125, 90, 75]\\n  },  \\n  {\"tiny_cutoff\": 70000,\\n  \"target_points\": 6000,\\n  \"search_limit\": 160,\\n  \"beam_widths\": [115, 95, 120]\\n  },  \\n  {\"tiny_cutoff\": 64000,\\n  \"target_points\": 15000,\\n  \"search_limit\": 135,\\n  \"beam_widths\": [80, 50, 115]\\n  },  \\n  {\"tiny_cutoff\": 65000,\\n  \"target_points\": 18000,\\n  \"search_limit\": 50,\\n  \"beam_widths\": [85, 30, 130]\\n  },  \\n  {\"tiny_cutoff\": 65000,\\n  \"target_points\": 21000,\\n  \"search_limit\": 960,\\n  \"beam_widths\": [120, 35, 30]\\n  },  \\n  {\"tiny_cutoff\": 24000,\\n  \"target_points\": 26000,\\n  \"search_limit\": 825,\\n  \"beam_widths\": [115, 40, 120]\\n  },  \\n  {\"tiny_cutoff\": 73000,\\n  \"target_points\": 40000,\\n  \"search_limit\": 55,\\n  \"beam_widths\": [125, 35, 120]\\n  }  \\n  ]\\n'}}}}, 'audio': {'parlayivf': {'docker-tag': 'neurips23-filter-parlayivf', 'module': 'neurips23.filter.parlayivf.parlayivf', 'constructor': 'ParlayIVF', 'base-args': ['@metric'], 'run-groups': {'base': {'args': '[{\"cluster_size\": 5000, \\n  \"T\": 8,\\n  \"cutoff\": 10000,\\n  \"max_iter\": 10,\\n  \"weight_classes\": [100000, 400000],\\n  \"build_params\": [{\"max_degree\": 8,\\n                    \"limit\": 200,\\n                    \"alpha\": 1.175},\\n                  {\"max_degree\": 10,\\n                   \"limit\": 200,\\n                   \"alpha\": 1.175},\\n                  {\"max_degree\": 12,\\n                   \"limit\": 200,\\n                   \"alpha\": 1.175}],\\n  \"bitvector_cutoff\": 10000,\\n  \"materialize_joins\": \"True\"\\n}]\\n', 'query-args': '[{\"target_points\": 15000,\\n  \"tiny_cutoff\": 60000,\\n  \"beam_widths\": [70, 70, 70]\\n  },\\n  {\"target_points\": 100000,\\n  \"tiny_cutoff\": 60000,\\n  \"beam_widths\": [70, 70, 70]\\n  },\\n\\n  {\"tiny_cutoff\": 36000,\\n  \"target_points\": 14000,\\n  \"search_limit\": 650,\\n  \"beam_widths\": [80, 105, 80]\\n  },  \\n  {\"tiny_cutoff\": 14000,\\n  \"target_points\": 5000,\\n  \"search_limit\": 860,\\n  \"beam_widths\": [40, 125, 50]\\n  },  \\n  {\"tiny_cutoff\": 13000,\\n  \"target_points\": 5000,\\n  \"search_limit\": 515,\\n  \"beam_widths\": [125, 35, 85]\\n  },  \\n  {\"tiny_cutoff\": 28000,\\n  \"target_points\": 37000,\\n  \"search_limit\": 355,\\n  \"beam_widths\": [30, 70, 95]\\n  },  \\n  {\"tiny_cutoff\": 26000,\\n  \"target_points\": 5000,\\n  \"search_limit\": 390,\\n  \"beam_widths\": [100, 85, 85]\\n  },  \\n  {\"tiny_cutoff\": 58000,\\n  \"target_points\": 25000,\\n  \"search_limit\": 240,\\n  \"beam_widths\": [30, 130, 60]\\n  },  \\n  {\"tiny_cutoff\": 90000,\\n  \"target_points\": 28000,\\n  \"search_limit\": 970,\\n  \"beam_widths\": [45, 125, 90]\\n  }                \\n  ]\\n'}}}}, 'sift': {'parlayivf': {'docker-tag': 'neurips23-filter-parlayivf', 'module': 'neurips23.filter.parlayivf.parlayivf', 'constructor': 'ParlayIVF', 'base-args': ['@metric'], 'run-groups': {'base': {'args': '[{\"cluster_size\": 5000, \\n  \"T\": 8,\\n  \"cutoff\": 10000,\\n  \"max_iter\": 10,\\n  \"weight_classes\": [100000, 400000],\\n  \"build_params\": [{\"max_degree\": 8,\\n                    \"limit\": 200,\\n                    \"alpha\": 1.175},\\n                  {\"max_degree\": 10,\\n                   \"limit\": 200,\\n                   \"alpha\": 1.175},\\n                  {\"max_degree\": 12,\\n                   \"limit\": 200,\\n                   \"alpha\": 1.175}],\\n  \"bitvector_cutoff\": 10000,\\n  \"materialize_joins\": \"True\"\\n}]\\n', 'query-args': '[{\"target_points\": 15000,\\n  \"tiny_cutoff\": 60000,\\n  \"beam_widths\": [70, 70, 70]\\n  },\\n  {\"target_points\": 100000,\\n  \"tiny_cutoff\": 60000,\\n  \"beam_widths\": [70, 70, 70]\\n  },\\n\\n  {\"tiny_cutoff\": 69000,\\n  \"target_points\": 5000,\\n  \"search_limit\": 965,\\n  \"beam_widths\": [90, 80, 30]\\n  },  \\n  {\"tiny_cutoff\": 79000,\\n  \"target_points\": 6000,\\n  \"search_limit\": 110,\\n  \"beam_widths\": [80, 105, 85]\\n  },  \\n  {\"tiny_cutoff\": 12000,\\n  \"target_points\": 14000,\\n  \"search_limit\": 970,\\n  \"beam_widths\": [130, 125, 65]\\n  },  \\n  {\"tiny_cutoff\": 84000,\\n  \"target_points\": 17000,\\n  \"search_limit\": 255,\\n  \"beam_widths\": [85, 130, 125]\\n  },  \\n  {\"tiny_cutoff\": 46000,\\n  \"target_points\": 21000,\\n  \"search_limit\": 850,\\n  \"beam_widths\": [115, 100, 110]\\n  },  \\n  {\"tiny_cutoff\": 90000,\\n  \"target_points\": 27000,\\n  \"search_limit\": 610,\\n  \"beam_widths\": [85, 60, 55]\\n  },  \\n  {\"tiny_cutoff\": 36000,\\n  \"target_points\": 38000,\\n  \"search_limit\": 625,\\n  \"beam_widths\": [105, 35, 130]\\n  }  \\n  ]\\n'}}}}, 'uqv': {'parlayivf': {'docker-tag': 'neurips23-filter-parlayivf', 'module': 'neurips23.filter.parlayivf.parlayivf', 'constructor': 'ParlayIVF', 'base-args': ['@metric'], 'run-groups': {'base': {'args': '[{\"cluster_size\": 5000, \\n  \"T\": 8,\\n  \"cutoff\": 10000,\\n  \"max_iter\": 10,\\n  \"weight_classes\": [100000, 400000],\\n  \"build_params\": [{\"max_degree\": 8,\\n                    \"limit\": 200,\\n                    \"alpha\": 1.175},\\n                  {\"max_degree\": 10,\\n                   \"limit\": 200,\\n                   \"alpha\": 1.175},\\n                  {\"max_degree\": 12,\\n                   \"limit\": 200,\\n                   \"alpha\": 1.175}],\\n  \"bitvector_cutoff\": 10000,\\n  \"materialize_joins\": \"True\"\\n}]\\n', 'query-args': '[{\"target_points\": 15000,\\n  \"tiny_cutoff\": 60000,\\n  \"beam_widths\": [70, 70, 70]\\n  },\\n  {\"target_points\": 100000,\\n  \"tiny_cutoff\": 60000,\\n  \"beam_widths\": [70, 70, 70]\\n  },\\n\\n  {\"tiny_cutoff\": 56000,\\n  \"target_points\": 39000,\\n  \"search_limit\": 855,\\n  \"beam_widths\": [90, 50, 65]\\n  },  \\n  {\"tiny_cutoff\": 46000,\\n  \"target_points\": 32000,\\n  \"search_limit\": 900,\\n  \"beam_widths\": [80, 75, 55]\\n  },  \\n  {\"tiny_cutoff\": 18000,\\n  \"target_points\": 7000,\\n  \"search_limit\": 740,\\n  \"beam_widths\": [115, 90, 90]\\n  },  \\n  {\"tiny_cutoff\": 94000,\\n  \"target_points\": 18000,\\n  \"search_limit\": 955,\\n  \"beam_widths\": [115, 30, 40]\\n  },  \\n  {\"tiny_cutoff\": 24000,\\n  \"target_points\": 20000,\\n  \"search_limit\": 565,\\n  \"beam_widths\": [55, 120, 75]\\n  },  \\n  {\"tiny_cutoff\": 60000,\\n  \"target_points\": 33000,\\n  \"search_limit\": 195,\\n  \"beam_widths\": [120, 100, 110]\\n  },  \\n  {\"tiny_cutoff\": 15000,\\n  \"target_points\": 16000,\\n  \"search_limit\": 500,\\n  \"beam_widths\": [45, 90, 130]\\n  }  \\n  ]\\n  \\n'}}}}, 'wiki-double-common': {'parlayivf': {'docker-tag': 'neurips23-filter-parlayivf', 'module': 'neurips23.filter.parlayivf.parlayivf', 'constructor': 'ParlayIVF', 'base-args': ['@metric'], 'run-groups': {'base': {'args': '[{\"cluster_size\": 5000, \\n  \"T\": 180,\\n  \"cutoff\": 10000,\\n  \"max_iter\": 10,\\n  \"weight_classes\": [100000, 400000],\\n  \"build_params\": [{\"max_degree\": 8,\\n                    \"limit\": 200,\\n                    \"alpha\": 1.175},\\n                  {\"max_degree\": 10,\\n                   \"limit\": 200,\\n                   \"alpha\": 1.175},\\n                  {\"max_degree\": 12,\\n                   \"limit\": 200,\\n                   \"alpha\": 1.175}],\\n  \"bitvector_cutoff\": 10000,\\n  \"materialize_joins\": \"True\"\\n}]\\n', 'query-args': '[{\"target_points\": 5000,\\n  \"tiny_cutoff\": 30000,\\n  \"beam_widths\": [85, 50, 95],\\n  \"search_limits\": [500, 500, 500]\\n  },\\n  {\"target_points\": 7500,\\n   \"tiny_cutoff\": 35000,\\n   \"beam_widths\": [55, 55, 55]\\n   },\\n   {\"target_points\": 5000,\\n  \"tiny_cutoff\": 28000,\\n  \"beam_widths\": [90, 57, 90],\\n  \"search_limits\": [500, 500, 500]\\n  },\\n  {\"target_points\": 15000,\\n   \"tiny_cutoff\": 100000,\\n   \"beam_widths\": [60, 60, 60]\\n  },\\n  {\"target_points\": 15000,\\n   \"tiny_cutoff\": 60000,\\n   \"beam_widths\": [90, 90, 90]\\n  },\\n  {\"target_points\": 15000,\\n   \"tiny_cutoff\": 100000,\\n   \"beam_widths\": [90, 90, 90]\\n  },\\n  {\"target_points\": 15000,\\n   \"tiny_cutoff\": 60000,\\n   \"beam_widths\": [50, 50, 50]\\n  },\\n  {\"target_points\": 15000,\\n   \"tiny_cutoff\": 100000,\\n   \"beam_widths\": [50, 50, 50]\\n  },\\n  {\"target_points\": 15000,\\n   \"tiny_cutoff\": 60000,\\n   \"beam_widths\": [40, 40, 40]\\n  },\\n  {\"target_points\": 15000,\\n   \"tiny_cutoff\": 100000,\\n   \"beam_widths\": [40, 40, 40]\\n  }]\\n'}}}}}\n"
     ]
    }
   ],
   "source": [
    "# read in existing config\n",
    "with open('reference_config.yaml', 'r') as f:\n",
    "    config = yaml.unsafe_load(f)\n",
    "print(config)"
   ]
  },
  {
   "cell_type": "code",
   "execution_count": 9,
   "metadata": {},
   "outputs": [],
   "source": [
    "# for each dataset, create a new config for each ablation\n",
    "for dataset, args in config.items():\n",
    "    base = args['parlayivf']\n",
    "    base = copy.deepcopy(base)\n",
    "\n",
    "    base['run-groups']['base']['args'] = yaml.load(base['run-groups']['base']['args'], Loader=yaml.FullLoader)\n",
    "\n",
    "    # for each ablation, create a new config\n",
    "\n",
    "    # no material join\n",
    "    no_material_join = copy.deepcopy(base)\n",
    "    # print(no_material_join['run-groups']['base']['args'])\n",
    "    # print(type(no_material_join['run-groups']['base']['args']))\n",
    "    no_material_join['run-groups']['base']['args'][0]['materialize_joins'] = 'False'\n",
    "    args['parlayivf-no-material-join'] = no_material_join\n",
    "\n",
    "    # no sorted queries\n",
    "    no_sorted_queries = copy.deepcopy(base)\n",
    "    no_sorted_queries['run-groups']['base']['args'][0]['sorted_queries'] = 'False'\n",
    "    args['parlayivf-no-sorted-queries'] = no_sorted_queries\n",
    "\n",
    "    # no bitvector\n",
    "    no_bitvector = copy.deepcopy(base)\n",
    "    no_bitvector['run-groups']['base']['args'][0]['bitvector_cutoff'] = 1_000_000_000\n",
    "    args['parlayivf-no-bitvector'] = no_bitvector\n",
    "\n",
    "    # no weight classes\n",
    "    no_weight_classes = copy.deepcopy(base)\n",
    "    no_weight_classes['run-groups']['base']['args'][0]['weight_classes'] = [1, 1]\n",
    "    args['parlayivf-no-weight-classes'] = no_weight_classes"
   ]
  },
  {
   "cell_type": "code",
   "execution_count": 10,
   "metadata": {},
   "outputs": [],
   "source": [
    "# write out new config\n",
    "with open('config.yaml', 'w') as f:\n",
    "    yaml.dump(config, f)"
   ]
  }
 ],
 "metadata": {
  "kernelspec": {
   "display_name": "bigann",
   "language": "python",
   "name": "python3"
  },
  "language_info": {
   "codemirror_mode": {
    "name": "ipython",
    "version": 3
   },
   "file_extension": ".py",
   "mimetype": "text/x-python",
   "name": "python",
   "nbconvert_exporter": "python",
   "pygments_lexer": "ipython3",
   "version": "3.10.12"
  }
 },
 "nbformat": 4,
 "nbformat_minor": 2
}
